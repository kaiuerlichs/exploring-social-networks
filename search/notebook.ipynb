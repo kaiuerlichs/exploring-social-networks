{
 "cells": [
  {
   "cell_type": "code",
   "execution_count": null,
   "metadata": {},
   "outputs": [],
   "source": [
    "# Define problem \n",
    "\n",
    "class SocialNetworkProblem(Problem):\n",
    "    friendsList = [None] * 4039\n",
    "\n",
    "    def __init__(self, initial, goal=None):\n",
    "        self.initial = initial\n",
    "        self.goal = goal\n",
    "\n",
    "        friendsFile = open(\"../data/friendsLists.txt\")\n",
    "\n",
    "        for line in friendsFile:\n",
    "            list_tokens = line.split()\n",
    "            list = []\n",
    "\n",
    "            for token in list_tokens[1:]:\n",
    "                list.append(token)\n",
    "\n",
    "            self.friendsList[int(list_tokens[0])] = list\n",
    "\n",
    "    def actions(self, state):\n",
    "        return self.friendsList[int(state)]\n",
    "\n",
    "    def transition(self, state, action):\n",
    "        return action\n",
    "\n",
    "    def path_cost(self, cost, state_from, state_to):\n",
    "        return cost + 1"
   ]
  },
  {
   "cell_type": "code",
   "execution_count": null,
   "metadata": {},
   "outputs": [],
   "source": [
    "# Generate random connected tuples\n",
    "\n",
    "tuples = []\n",
    "\n",
    "fake_problem = SocialNetworkProblem(0,0)\n",
    "\n",
    "for i in range(0,10):\n",
    "    # steps = random.randint(2,3)\n",
    "    start = str(random.randint(0,4038))\n",
    "    end = str(random.randint(0,4038))\n",
    "    # for j in range(0, steps):\n",
    "        # possible_state = fake_problem.actions(end)\n",
    "        # end = possible_state[random.randint(0, len(possible_state)-1)]\n",
    "    tuples.append((start,end))\n",
    "\n",
    "print(tuples)"
   ]
  },
  {
   "cell_type": "code",
   "execution_count": null,
   "metadata": {},
   "outputs": [],
   "source": [
    "# Use DFS to find connections\n",
    "lengths_dfs = []\n",
    "\n",
    "for tuple in tqdm(tuples, desc = \"DFS\"):\n",
    "    problem = SocialNetworkProblem(tuple[0], tuple[1])\n",
    "    solution = depth_first_search(problem)\n",
    "    lengths_dfs.append(len(solution))\n",
    "\n",
    "plt.hist(lengths_dfs)\n",
    "plt.show()"
   ]
  },
  {
   "cell_type": "code",
   "execution_count": null,
   "metadata": {},
   "outputs": [],
   "source": [
    "# Use DLS w/ limit=6 to find connections\n",
    "lengths_dls = []\n",
    "\n",
    "for tuple in tqdm(tuples, desc = \"DLS w/ limit=6\"):\n",
    "    problem = SocialNetworkProblem(tuple[0], tuple[1])\n",
    "    solution = depth_limited_search(problem,6)\n",
    "    lengths_dls.append(len(solution))\n",
    "\n",
    "plt.hist(lengths_dls)\n",
    "plt.show()"
   ]
  }
 ],
 "metadata": {
  "interpreter": {
   "hash": "919239b2777325ad678b09138df0135b56fc0ef3f4dc726a5afeeee70c0c95d6"
  },
  "kernelspec": {
   "display_name": "ml_env",
   "language": "python",
   "name": "ml_env"
  },
  "language_info": {
   "codemirror_mode": {
    "name": "ipython",
    "version": 3
   },
   "file_extension": ".py",
   "mimetype": "text/x-python",
   "name": "python",
   "nbconvert_exporter": "python",
   "pygments_lexer": "ipython3",
   "version": "3.9.6"
  },
  "orig_nbformat": 4
 },
 "nbformat": 4,
 "nbformat_minor": 2
}
